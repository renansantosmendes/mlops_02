{
 "cells": [
  {
   "cell_type": "code",
   "execution_count": 1,
   "id": "9ef7fe70",
   "metadata": {},
   "outputs": [],
   "source": [
    "import numpy as np\n",
    "# General imports\n",
    "import pandas as pd\n",
    "from sklearn.ensemble import RandomForestClassifier\n",
    "from sklearn.model_selection import train_test_split\n",
    "\n",
    "from deepchecks.tabular.datasets.classification import iris\n",
    "\n",
    "# Load Data\n",
    "iris_df = iris.load_data(data_format='Dataframe', as_train_test=False)\n",
    "label_col = 'target'\n",
    "df_train, df_test = train_test_split(iris_df, stratify=iris_df[label_col], random_state=0)\n",
    "\n",
    "# Train Model\n",
    "rf_clf = RandomForestClassifier(random_state=0)\n",
    "rf_clf.fit(df_train.drop(label_col, axis=1), df_train[label_col]);"
   ]
  },
  {
   "cell_type": "code",
   "execution_count": 2,
   "id": "ada0227e",
   "metadata": {},
   "outputs": [],
   "source": [
    "from deepchecks.tabular import Dataset\n",
    "\n",
    "# We explicitly state that this dataset has no categorical features, otherwise they will be automatically inferred\n",
    "# If the dataset has categorical features, the best practice is to pass a list with their names\n",
    "\n",
    "ds_train = Dataset(df_train, label=label_col, cat_features=[])\n",
    "ds_test =  Dataset(df_test,  label=label_col, cat_features=[])"
   ]
  },
  {
   "cell_type": "code",
   "execution_count": 3,
   "id": "5c395b3f",
   "metadata": {},
   "outputs": [],
   "source": [
    "from deepchecks.tabular.suites import full_suite\n",
    "\n",
    "suite = full_suite()"
   ]
  },
  {
   "cell_type": "code",
   "execution_count": 4,
   "id": "c2789b6a",
   "metadata": {},
   "outputs": [
    {
     "data": {
      "text/html": [
       "\n",
       "    <style>\n",
       "        progress {\n",
       "            -webkit-appearance: none;\n",
       "            border: none;\n",
       "            border-radius: 3px;\n",
       "            width: 300px;\n",
       "            height: 20px;\n",
       "            vertical-align: middle;\n",
       "            margin-right: 10px;\n",
       "            background-color: aliceblue;\n",
       "        }\n",
       "        progress::-webkit-progress-bar {\n",
       "            border-radius: 3px;\n",
       "            background-color: aliceblue;\n",
       "        }\n",
       "        progress::-webkit-progress-value {\n",
       "            background-color: #9d60fb;\n",
       "        }\n",
       "        progress::-moz-progress-bar {\n",
       "            background-color: #9d60fb;\n",
       "        }\n",
       "    </style>\n",
       "    "
      ]
     },
     "metadata": {},
     "output_type": "display_data"
    },
    {
     "data": {
      "text/html": []
     },
     "metadata": {},
     "output_type": "display_data"
    },
    {
     "name": "stderr",
     "output_type": "stream",
     "text": [
      "C:\\Users\\renan\\Anaconda3\\envs\\pytorch\\lib\\site-packages\\deepchecks\\tabular\\checks\\model_evaluation\\weak_segments_performance.py:255: FutureWarning:\n",
      "\n",
      "In the future `np.object` will be defined as the corresponding NumPy scalar.  (This may have returned Python scalars in past versions.\n",
      "\n",
      "C:\\Users\\renan\\Anaconda3\\envs\\pytorch\\lib\\site-packages\\deepchecks\\tabular\\checks\\model_evaluation\\weak_segments_performance.py:255: FutureWarning:\n",
      "\n",
      "In the future `np.object` will be defined as the corresponding NumPy scalar.  (This may have returned Python scalars in past versions.\n",
      "\n"
     ]
    },
    {
     "data": {
      "application/vnd.jupyter.widget-view+json": {
       "model_id": "6389d474f22442158a85d7d49d988a54",
       "version_major": 2,
       "version_minor": 0
      },
      "text/plain": [
       "Accordion(children=(VBox(children=(HTML(value='\\n            <h1 id=\"summary_KIGJTFHLKZHYH2O9J153AMXMK\">Full S…"
      ]
     },
     "metadata": {},
     "output_type": "display_data"
    }
   ],
   "source": [
    "suite.run(train_dataset=ds_train, test_dataset=ds_test, model=rf_clf)"
   ]
  },
  {
   "cell_type": "code",
   "execution_count": 5,
   "id": "244ee6b0",
   "metadata": {},
   "outputs": [
    {
     "name": "stderr",
     "output_type": "stream",
     "text": [
      "deepchecks - WARNING - Due to the small number of unique labels task type was inferred as classification in spite of the label column is of type integer. Initialize your Dataset with either label_type=\"multiclass\" or label_type=\"regression\" to resolve this warning.\n"
     ]
    },
    {
     "data": {
      "text/html": [
       "\n",
       "    <style>\n",
       "        progress {\n",
       "            -webkit-appearance: none;\n",
       "            border: none;\n",
       "            border-radius: 3px;\n",
       "            width: 300px;\n",
       "            height: 20px;\n",
       "            vertical-align: middle;\n",
       "            margin-right: 10px;\n",
       "            background-color: aliceblue;\n",
       "        }\n",
       "        progress::-webkit-progress-bar {\n",
       "            border-radius: 3px;\n",
       "            background-color: aliceblue;\n",
       "        }\n",
       "        progress::-webkit-progress-value {\n",
       "            background-color: #9d60fb;\n",
       "        }\n",
       "        progress::-moz-progress-bar {\n",
       "            background-color: #9d60fb;\n",
       "        }\n",
       "    </style>\n",
       "    "
      ]
     },
     "metadata": {},
     "output_type": "display_data"
    },
    {
     "data": {
      "text/html": []
     },
     "metadata": {},
     "output_type": "display_data"
    },
    {
     "data": {
      "application/vnd.jupyter.widget-view+json": {
       "model_id": "64a57d62e5b84fb7ad9fbe4c53bb4661",
       "version_major": 2,
       "version_minor": 0
      },
      "text/plain": [
       "Accordion(children=(VBox(children=(HTML(value='\\n            <h1 id=\"summary_V0LR02TALC1W3WF444V4L8L0B\">Data I…"
      ]
     },
     "metadata": {},
     "output_type": "display_data"
    }
   ],
   "source": [
    "from deepchecks.tabular.suites import data_integrity\n",
    "\n",
    "integ_suite = data_integrity()\n",
    "integ_suite.run(ds_train)"
   ]
  },
  {
   "cell_type": "code",
   "execution_count": 6,
   "id": "767546ff",
   "metadata": {},
   "outputs": [],
   "source": [
    "from deepchecks.tabular.checks import TrainTestLabelDrift"
   ]
  },
  {
   "cell_type": "code",
   "execution_count": 7,
   "id": "98c7dc50",
   "metadata": {},
   "outputs": [
    {
     "name": "stderr",
     "output_type": "stream",
     "text": [
      "deepchecks - WARNING - Due to the small number of unique labels task type was inferred as classification in spite of the label column is of type integer. Initialize your Dataset with either label_type=\"multiclass\" or label_type=\"regression\" to resolve this warning.\n"
     ]
    },
    {
     "data": {
      "application/vnd.jupyter.widget-view+json": {
       "model_id": "ce39ae94b2bb4d308af807a3fb95ea76",
       "version_major": 2,
       "version_minor": 0
      },
      "text/plain": [
       "VBox(children=(HTML(value='<h4><b>Train Test Label Drift</b></h4>'), HTML(value='<p>    Calculate label drift …"
      ]
     },
     "metadata": {},
     "output_type": "display_data"
    }
   ],
   "source": [
    "check = TrainTestLabelDrift()\n",
    "result = check.run(ds_train, ds_test)\n",
    "result"
   ]
  },
  {
   "cell_type": "code",
   "execution_count": null,
   "id": "1614f8cf",
   "metadata": {},
   "outputs": [],
   "source": []
  }
 ],
 "metadata": {
  "kernelspec": {
   "display_name": "Python 3 (ipykernel)",
   "language": "python",
   "name": "python3"
  },
  "language_info": {
   "codemirror_mode": {
    "name": "ipython",
    "version": 3
   },
   "file_extension": ".py",
   "mimetype": "text/x-python",
   "name": "python",
   "nbconvert_exporter": "python",
   "pygments_lexer": "ipython3",
   "version": "3.10.8"
  }
 },
 "nbformat": 4,
 "nbformat_minor": 5
}
